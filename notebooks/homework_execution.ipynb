{
 "cells": [
  {
   "cell_type": "markdown",
   "metadata": {
    "id": "hROe-YcZwc6p"
   },
   "source": [
    "# Stock Market Analytics Zoomcamp\n",
    "## Module 1 Homework"
   ]
  },
  {
   "cell_type": "code",
   "execution_count": 1,
   "metadata": {
    "colab": {
     "base_uri": "https://localhost:8080/"
    },
    "id": "xL3lPzR3qpwO",
    "outputId": "152cefe4-f382-4608-d675-a72e3a068039"
   },
   "outputs": [
    {
     "name": "stdout",
     "output_type": "stream",
     "text": [
      "Collecting yfinance\n",
      "  Downloading yfinance-0.2.38-py2.py3-none-any.whl (72 kB)\n",
      "\u001b[2K     \u001b[38;2;114;156;31m━━━━━━━━━━━━━━━━━━━━━━━━━━━━━━━━━━━━━━━━\u001b[0m \u001b[32m73.0/73.0 KB\u001b[0m \u001b[31m2.6 MB/s\u001b[0m eta \u001b[36m0:00:00\u001b[0m\n",
      "\u001b[?25hCollecting pandas-datareader\n",
      "  Using cached pandas_datareader-0.10.0-py3-none-any.whl (109 kB)\n",
      "Collecting plotly\n",
      "  Downloading plotly-5.21.0-py3-none-any.whl (15.7 MB)\n",
      "\u001b[2K     \u001b[38;2;114;156;31m━━━━━━━━━━━━━━━━━━━━━━━━━━━━━━━━━━━━━━━━\u001b[0m \u001b[32m15.7/15.7 MB\u001b[0m \u001b[31m4.3 MB/s\u001b[0m eta \u001b[36m0:00:00\u001b[0mm eta \u001b[36m0:00:01\u001b[0m[36m0:00:01\u001b[0m\n",
      "\u001b[?25hCollecting matplotlib\n",
      "  Downloading matplotlib-3.8.4-cp310-cp310-macosx_11_0_arm64.whl (7.5 MB)\n",
      "\u001b[2K     \u001b[38;2;114;156;31m━━━━━━━━━━━━━━━━━━━━━━━━━━━━━━━━━━━━━━━━\u001b[0m \u001b[32m7.5/7.5 MB\u001b[0m \u001b[31m3.4 MB/s\u001b[0m eta \u001b[36m0:00:00\u001b[0mm eta \u001b[36m0:00:01\u001b[0m0:01\u001b[0m:01\u001b[0m\n",
      "\u001b[?25hCollecting numpy>=1.16.5\n",
      "  Using cached numpy-1.26.4-cp310-cp310-macosx_11_0_arm64.whl (14.0 MB)\n",
      "Collecting frozendict>=2.3.4\n",
      "  Using cached frozendict-2.4.2-cp310-cp310-macosx_11_0_arm64.whl (37 kB)\n",
      "Collecting pandas>=1.3.0\n",
      "  Downloading pandas-2.2.2-cp310-cp310-macosx_11_0_arm64.whl (11.3 MB)\n",
      "\u001b[2K     \u001b[38;2;114;156;31m━━━━━━━━━━━━━━━━━━━━━━━━━━━━━━━━━━━━━━━━\u001b[0m \u001b[32m11.3/11.3 MB\u001b[0m \u001b[31m5.2 MB/s\u001b[0m eta \u001b[36m0:00:00\u001b[0mm eta \u001b[36m0:00:01\u001b[0m0:01\u001b[0m01\u001b[0m\n",
      "\u001b[?25hCollecting lxml>=4.9.1\n",
      "  Using cached lxml-5.2.1-cp310-cp310-macosx_10_9_universal2.whl (8.5 MB)\n",
      "Collecting peewee>=3.16.2\n",
      "  Downloading peewee-3.17.3.tar.gz (3.0 MB)\n",
      "\u001b[2K     \u001b[38;2;114;156;31m━━━━━━━━━━━━━━━━━━━━━━━━━━━━━━━━━━━━━━━━\u001b[0m \u001b[32m3.0/3.0 MB\u001b[0m \u001b[31m5.1 MB/s\u001b[0m eta \u001b[36m0:00:00\u001b[0mm eta \u001b[36m0:00:01\u001b[0m0:01\u001b[0m:01\u001b[0m\n",
      "\u001b[?25h  Installing build dependencies ... \u001b[?25ldone\n",
      "\u001b[?25h  Getting requirements to build wheel ... \u001b[?25ldone\n",
      "\u001b[?25h  Preparing metadata (pyproject.toml) ... \u001b[?25ldone\n",
      "\u001b[?25hCollecting appdirs>=1.4.4\n",
      "  Using cached appdirs-1.4.4-py2.py3-none-any.whl (9.6 kB)\n",
      "Collecting html5lib>=1.1\n",
      "  Using cached html5lib-1.1-py2.py3-none-any.whl (112 kB)\n",
      "Requirement already satisfied: beautifulsoup4>=4.11.1 in /Users/mhack/.pyenv/versions/3.10.3/envs/sma-zoomcamp/lib/python3.10/site-packages (from yfinance) (4.12.3)\n",
      "Collecting multitasking>=0.0.7\n",
      "  Using cached multitasking-0.0.11-py3-none-any.whl (8.5 kB)\n",
      "Requirement already satisfied: requests>=2.31 in /Users/mhack/.pyenv/versions/3.10.3/envs/sma-zoomcamp/lib/python3.10/site-packages (from yfinance) (2.31.0)\n",
      "Collecting pytz>=2022.5\n",
      "  Using cached pytz-2024.1-py2.py3-none-any.whl (505 kB)\n",
      "Requirement already satisfied: packaging in /Users/mhack/.pyenv/versions/3.10.3/envs/sma-zoomcamp/lib/python3.10/site-packages (from plotly) (24.0)\n",
      "Collecting tenacity>=6.2.0\n",
      "  Using cached tenacity-8.2.3-py3-none-any.whl (24 kB)\n",
      "Collecting contourpy>=1.0.1\n",
      "  Downloading contourpy-1.2.1-cp310-cp310-macosx_11_0_arm64.whl (244 kB)\n",
      "\u001b[2K     \u001b[38;2;114;156;31m━━━━━━━━━━━━━━━━━━━━━━━━━━━━━━━━━━━━━━━\u001b[0m \u001b[32m244.8/244.8 KB\u001b[0m \u001b[31m5.0 MB/s\u001b[0m eta \u001b[36m0:00:00\u001b[0m[31m5.6 MB/s\u001b[0m eta \u001b[36m0:00:01\u001b[0m\n",
      "\u001b[?25hCollecting fonttools>=4.22.0\n",
      "  Downloading fonttools-4.51.0-cp310-cp310-macosx_10_9_universal2.whl (2.8 MB)\n",
      "\u001b[2K     \u001b[38;2;114;156;31m━━━━━━━━━━━━━━━━━━━━━━━━━━━━━━━━━━━━━━━━\u001b[0m \u001b[32m2.8/2.8 MB\u001b[0m \u001b[31m5.3 MB/s\u001b[0m eta \u001b[36m0:00:00\u001b[0m MB/s\u001b[0m eta \u001b[36m0:00:01\u001b[0m:01\u001b[0m\n",
      "\u001b[?25hCollecting pyparsing>=2.3.1\n",
      "  Using cached pyparsing-3.1.2-py3-none-any.whl (103 kB)\n",
      "Collecting cycler>=0.10\n",
      "  Using cached cycler-0.12.1-py3-none-any.whl (8.3 kB)\n",
      "Collecting kiwisolver>=1.3.1\n",
      "  Using cached kiwisolver-1.4.5-cp310-cp310-macosx_11_0_arm64.whl (66 kB)\n",
      "Requirement already satisfied: python-dateutil>=2.7 in /Users/mhack/.pyenv/versions/3.10.3/envs/sma-zoomcamp/lib/python3.10/site-packages (from matplotlib) (2.9.0.post0)\n",
      "Collecting pillow>=8\n",
      "  Downloading pillow-10.3.0-cp310-cp310-macosx_11_0_arm64.whl (3.4 MB)\n",
      "\u001b[2K     \u001b[38;2;114;156;31m━━━━━━━━━━━━━━━━━━━━━━━━━━━━━━━━━━━━━━━━\u001b[0m \u001b[32m3.4/3.4 MB\u001b[0m \u001b[31m5.3 MB/s\u001b[0m eta \u001b[36m0:00:00\u001b[0m MB/s\u001b[0m eta \u001b[36m0:00:01\u001b[0m:01\u001b[0m\n",
      "\u001b[?25hRequirement already satisfied: soupsieve>1.2 in /Users/mhack/.pyenv/versions/3.10.3/envs/sma-zoomcamp/lib/python3.10/site-packages (from beautifulsoup4>=4.11.1->yfinance) (2.5)\n",
      "Requirement already satisfied: webencodings in /Users/mhack/.pyenv/versions/3.10.3/envs/sma-zoomcamp/lib/python3.10/site-packages (from html5lib>=1.1->yfinance) (0.5.1)\n",
      "Requirement already satisfied: six>=1.9 in /Users/mhack/.pyenv/versions/3.10.3/envs/sma-zoomcamp/lib/python3.10/site-packages (from html5lib>=1.1->yfinance) (1.16.0)\n",
      "Collecting tzdata>=2022.7\n",
      "  Using cached tzdata-2024.1-py2.py3-none-any.whl (345 kB)\n",
      "Requirement already satisfied: certifi>=2017.4.17 in /Users/mhack/.pyenv/versions/3.10.3/envs/sma-zoomcamp/lib/python3.10/site-packages (from requests>=2.31->yfinance) (2024.2.2)\n",
      "Requirement already satisfied: urllib3<3,>=1.21.1 in /Users/mhack/.pyenv/versions/3.10.3/envs/sma-zoomcamp/lib/python3.10/site-packages (from requests>=2.31->yfinance) (2.2.1)\n",
      "Requirement already satisfied: charset-normalizer<4,>=2 in /Users/mhack/.pyenv/versions/3.10.3/envs/sma-zoomcamp/lib/python3.10/site-packages (from requests>=2.31->yfinance) (3.3.2)\n",
      "Requirement already satisfied: idna<4,>=2.5 in /Users/mhack/.pyenv/versions/3.10.3/envs/sma-zoomcamp/lib/python3.10/site-packages (from requests>=2.31->yfinance) (3.7)\n",
      "Building wheels for collected packages: peewee\n",
      "  Building wheel for peewee (pyproject.toml) ... \u001b[?25ldone\n",
      "\u001b[?25h  Created wheel for peewee: filename=peewee-3.17.3-cp310-cp310-macosx_12_0_arm64.whl size=252002 sha256=aa27d3c1cbeae9986ca01b382d8434a5dac8dc5f93432e3ad1db2d8be70a45ea\n",
      "  Stored in directory: /Users/mhack/Library/Caches/pip/wheels/0d/32/b7/cad9f818b37cf97df4c87a8308da86a433af81651d98f8d8aa\n",
      "Successfully built peewee\n",
      "Installing collected packages: pytz, peewee, multitasking, appdirs, tzdata, tenacity, pyparsing, pillow, numpy, lxml, kiwisolver, html5lib, frozendict, fonttools, cycler, plotly, pandas, contourpy, yfinance, pandas-datareader, matplotlib\n",
      "Successfully installed appdirs-1.4.4 contourpy-1.2.1 cycler-0.12.1 fonttools-4.51.0 frozendict-2.4.2 html5lib-1.1 kiwisolver-1.4.5 lxml-5.2.1 matplotlib-3.8.4 multitasking-0.0.11 numpy-1.26.4 pandas-2.2.2 pandas-datareader-0.10.0 peewee-3.17.3 pillow-10.3.0 plotly-5.21.0 pyparsing-3.1.2 pytz-2024.1 tenacity-8.2.3 tzdata-2024.1 yfinance-0.2.38\n",
      "\u001b[33mWARNING: You are using pip version 22.0.4; however, version 24.0 is available.\n",
      "You should consider upgrading via the '/Users/mhack/.pyenv/versions/3.10.3/envs/sma-zoomcamp/bin/python3.10 -m pip install --upgrade pip' command.\u001b[0m\u001b[33m\n",
      "\u001b[0m"
     ]
    }
   ],
   "source": [
    "!pip install yfinance pandas-datareader plotly matplotlib\n"
   ]
  },
  {
   "cell_type": "code",
   "execution_count": 2,
   "metadata": {
    "id": "crmwv86Vq5Sv"
   },
   "outputs": [],
   "source": [
    "import numpy as np\n",
    "import pandas as pd\n",
    "import yfinance as yf\n",
    "import pandas_datareader as pdr\n",
    "import plotly.graph_objs as go\n",
    "import plotly.express as px\n",
    "import time\n",
    "from datetime import date"
   ]
  },
  {
   "cell_type": "markdown",
   "metadata": {
    "id": "AdMKM3Zbq98l"
   },
   "source": [
    "# Question 1: [Macro] Average growth of GDP in 2023\n",
    "**What is the average growth (in %) of GDP in 2023?**\n",
    "\n",
    "Download the timeseries Real Gross Domestic Product (GDPC1) from FRED (https://fred.stlouisfed.org/series/GDPC1). Calculate year-over-year (YoY) growth rate (that is, divide current value to one 4 quarters ago). Find the average YoY growth in 2023 (average from 4 YoY numbers). Round to 1 digit after the decimal point: e.g. if you get 5.66% growth => you should answer 5.7"
   ]
  },
  {
   "cell_type": "code",
   "execution_count": 3,
   "metadata": {
    "colab": {
     "base_uri": "https://localhost:8080/"
    },
    "id": "zUFTmxE0sCFN",
    "outputId": "f8ae20fe-89e7-4129-f2e2-a55b9c369b46"
   },
   "outputs": [
    {
     "name": "stdout",
     "output_type": "stream",
     "text": [
      "Year = 2024; month= 4; day=21\n",
      "Period for indexes: 1954-04-21 to 2024-04-21 \n"
     ]
    }
   ],
   "source": [
    "end = date.today()\n",
    "print(f'Year = {end.year}; month= {end.month}; day={end.day}')\n",
    "\n",
    "start = date(year=end.year-70, month=end.month, day=end.day)\n",
    "print(f'Period for indexes: {start} to {end} ')\n",
    "\n",
    "gdpc1_df = pdr.DataReader(\"GDPC1\", \"fred\", start=start, end=end)\n"
   ]
  },
  {
   "cell_type": "code",
   "execution_count": 4,
   "metadata": {
    "colab": {
     "base_uri": "https://localhost:8080/"
    },
    "id": "c4zSUZK6s6rZ",
    "outputId": "746675bc-9320-4a4e-cce4-f6022f01f38a"
   },
   "outputs": [
    {
     "name": "stdout",
     "output_type": "stream",
     "text": [
      "Average YoY growth in 2023: 2.5\n"
     ]
    }
   ],
   "source": [
    "gdpc1_df['gdpc1_yoy'] = gdpc1_df.GDPC1/gdpc1_df.GDPC1.shift(4)-1\n",
    "gdpc1_2023_df = gdpc1_df[gdpc1_df.index.year == 2023]\n",
    "avg_gdpc1_yoy_2023 = round(gdpc1_2023_df['gdpc1_yoy'].mean()*100, 1)\n",
    "print('Average YoY growth in 2023:', avg_gdpc1_yoy_2023)"
   ]
  },
  {
   "cell_type": "markdown",
   "metadata": {
    "id": "OvkaX_JQ4npc"
   },
   "source": [
    "# Question 2. [Macro] Inverse \"Treasury Yield\"\n",
    "**Find the min value of (dgs10-dgs2) after since year 2000 (2000-01-01) and write it down as an answer, round to 1 digit after the decimal point.**\n",
    "\n",
    "Download DGS2 and DGS10 interest rates series (https://fred.stlouisfed.org/series/DGS2, https://fred.stlouisfed.org/series/DGS10). Join them together to one dataframe on date (you might need to read about pandas.DataFrame.join()), calculate the difference dgs10-dgs2 daily.\n",
    "\n",
    "(Additional: think about what does the \"inverted yield curve\" mean for the market and investors? do you see the same thing in your country/market of interest? Do you think it can be a good predictive feature for the models?)"
   ]
  },
  {
   "cell_type": "code",
   "execution_count": 5,
   "metadata": {
    "id": "9FkuHVTY6V2I"
   },
   "outputs": [],
   "source": [
    "import pandas as pd\n"
   ]
  },
  {
   "cell_type": "code",
   "execution_count": 6,
   "metadata": {
    "colab": {
     "base_uri": "https://localhost:8080/"
    },
    "id": "6buyFYAQ4rCO",
    "outputId": "3f163873-a32c-4503-e5a3-5b018c0eeb0d"
   },
   "outputs": [
    {
     "name": "stdout",
     "output_type": "stream",
     "text": [
      "            DGS2\n",
      "DATE            \n",
      "2000-01-03  6.38\n",
      "2000-01-04  6.30\n",
      "2000-01-05  6.38\n",
      "2000-01-06  6.35\n",
      "2000-01-07  6.31\n",
      "...          ...\n",
      "2024-04-12  4.88\n",
      "2024-04-15  4.93\n",
      "2024-04-16  4.97\n",
      "2024-04-17  4.93\n",
      "2024-04-18  4.98\n",
      "\n",
      "[6339 rows x 1 columns]\n",
      "            DGS10\n",
      "DATE             \n",
      "2000-01-03   6.58\n",
      "2000-01-04   6.49\n",
      "2000-01-05   6.62\n",
      "2000-01-06   6.57\n",
      "2000-01-07   6.52\n",
      "...           ...\n",
      "2024-04-12   4.50\n",
      "2024-04-15   4.63\n",
      "2024-04-16   4.67\n",
      "2024-04-17   4.59\n",
      "2024-04-18   4.64\n",
      "\n",
      "[6339 rows x 1 columns]\n",
      "            DGS2  DGS10  dgs10-dgs2\n",
      "DATE                               \n",
      "2000-01-03  6.38   6.58        0.20\n",
      "2000-01-04  6.30   6.49        0.19\n",
      "2000-01-05  6.38   6.62        0.24\n",
      "2000-01-06  6.35   6.57        0.22\n",
      "2000-01-07  6.31   6.52        0.21\n",
      "...          ...    ...         ...\n",
      "2024-04-12  4.88   4.50       -0.38\n",
      "2024-04-15  4.93   4.63       -0.30\n",
      "2024-04-16  4.97   4.67       -0.30\n",
      "2024-04-17  4.93   4.59       -0.34\n",
      "2024-04-18  4.98   4.64       -0.34\n",
      "\n",
      "[6339 rows x 3 columns]\n",
      "Min value of (dgs10-dgs2) after since year 2000 (2000-01-01) -1.1\n"
     ]
    }
   ],
   "source": [
    "dgs2_df = pdr.DataReader(\"DGS2\", \"fred\", start=date(year=2000, month=1, day=1))\n",
    "dgs10_df = pdr.DataReader(\"DGS10\", \"fred\", start=date(year=2000, month=1, day=1))\n",
    "print(dgs2_df)\n",
    "print(dgs10_df)\n",
    "df_joined = dgs2_df.join(dgs10_df)\n",
    "df_joined['dgs10-dgs2'] = df_joined['DGS10']-df_joined['DGS2']\n",
    "print(df_joined)\n",
    "min_dgs10_dgs2 = round(df_joined['dgs10-dgs2'].min(), 1)\n",
    "print('Min value of (dgs10-dgs2) after since year 2000 (2000-01-01)', min_dgs10_dgs2)"
   ]
  },
  {
   "cell_type": "markdown",
   "metadata": {
    "id": "1hbsxd0yR8ke"
   },
   "source": [
    "# Question 3. [Index] Which Index is better recently?\n",
    "\n",
    "**Compare S&P 500 and IPC Mexico indexes by the 5 year growth and write down the largest value as an answer (%)**\n",
    "\n",
    "Download on Yahoo Finance two daily index prices for S&P 500 (^GSPC, https://finance.yahoo.com/quote/%5EGSPC/) and IPC Mexico (^MXX, https://finance.yahoo.com/quote/%5EMXX/). Compare 5Y growth for both (between 2019-04-09 and 2024-04-09). Select the higher growing index and write down the growth in % (closest integer %). E.g. if ratio end/start was 2.0925 (or growth of 109.25%), you need to write down 109 as your answer.\n",
    "\n",
    "(Additional: think of other indexes and try to download stats and compare the growth? Do create 10Y and 20Y growth stats. What is an average yearly growth rate (CAGR) for each of the indexes you select?)\n"
   ]
  },
  {
   "cell_type": "code",
   "execution_count": 7,
   "metadata": {
    "id": "p-jYojPUUKcc"
   },
   "outputs": [],
   "source": [
    "import yfinance as yf"
   ]
  },
  {
   "cell_type": "code",
   "execution_count": 8,
   "metadata": {
    "colab": {
     "base_uri": "https://localhost:8080/"
    },
    "id": "erwq89anSMtP",
    "outputId": "5cb09b6f-40b0-4dba-fd9d-a989bf033939"
   },
   "outputs": [
    {
     "name": "stderr",
     "output_type": "stream",
     "text": [
      "[*********************100%%**********************]  1 of 1 completed\n",
      "[*********************100%%**********************]  1 of 1 completed\n"
     ]
    }
   ],
   "source": [
    "sp500_df = yf.download(tickers = \"^GSPC\", start='2019-04-09', end='2024-04-09', interval = \"1d\")\n",
    "ipcmex_df = yf.download(tickers = \"^MXX\", start='2019-04-09', end='2024-04-09', interval = \"1d\")\n",
    "# print(sp500_df.tail())\n",
    "# print(sp500_df.head())\n"
   ]
  },
  {
   "cell_type": "code",
   "execution_count": 9,
   "metadata": {
    "colab": {
     "base_uri": "https://localhost:8080/"
    },
    "id": "T9hqJwmqjpPO",
    "outputId": "c7dbc920-95df-4364-fbfb-d4f2534ea50c"
   },
   "outputs": [
    {
     "name": "stdout",
     "output_type": "stream",
     "text": [
      "The index with higher growth is S&P 500 (^GSPC) with a growth of 125%.\n"
     ]
    }
   ],
   "source": [
    "\n",
    "# Calculate YoY growth for S&P 500 (^GSPC)\n",
    "sp500_df['yoy_growth'] = (sp500_df['Close']/sp500_df['Close'].shift(252)-1)\n",
    "sp500_growth = int(sp500_df['yoy_growth'].sum()) # 125.00 - 125%\n",
    "\n",
    "# sp500_start_date = sp500_df.index[0]\n",
    "# sp500_end_date = sp500_df.index[-1]\n",
    "# sp500_start = sp500_df['Adj Close'].iloc[0]\n",
    "# sp500_end = sp500_df['Adj Close'].iloc[-1]\n",
    "\n",
    "# ratio [=(max-min)/max]\n",
    "# sp500_growth = ((sp500_end / sp500_start) - 1) * 100 # 80.75 - 81%\n",
    "# sp500_growth = ((sp500_end - sp500_start) / sp500_start)*100 # 80.75 - 81%\n",
    "\n",
    "# print(f\"{sp500_start_date.strftime('%B %d, %Y')} - {sp500_start:.2f}\")\n",
    "# print(f\"{sp500_end_date.strftime('%B %d, %Y')} - {sp500_end:.2f}\")\n",
    "# print(f\"{sp500_growth:.2f}\")\n",
    "\n",
    "# Calculate YoY growth for IPC Mexico (^MXX)\n",
    "ipcmex_df['yoy_growth'] = (ipcmex_df['Close']/ipcmex_df['Close'].shift(252)-1)\n",
    "ipcmex_growth = int(ipcmex_df['yoy_growth'].sum())\n",
    "\n",
    "# ipcmex_start_date = ipcmex_df.index[0]\n",
    "# ipcmex_end_date = ipcmex_df.index[-1]\n",
    "# ipcmex_start = ipcmex_df['Adj Close'].iloc[0]\n",
    "# ipcmex_end = ipcmex_df['Adj Close'].iloc[-1]\n",
    "\n",
    "# ipcmex_growth = ((ipcmex_end / ipcmex_start) - 1) * 100\n",
    "# ipcmex_growth = ((ipcmex_end - ipcmex_start) / ipcmex_start)*100\n",
    "\n",
    "# print(f\"{ipcmex_start_date.strftime('%B %d, %Y')} - {ipcmex_start:.2f}\")\n",
    "# print(f\"{ipcmex_end_date.strftime('%B %d, %Y')} - {ipcmex_end:.2f}\")\n",
    "# print(f\"{ipcmex_growth:.2f}\")\n",
    "\n",
    "if sp500_growth > ipcmex_growth:\n",
    "    higher_index = 'S&P 500 (^GSPC)'\n",
    "    growth_percentage = int(round(sp500_growth))\n",
    "else:\n",
    "    higher_index = 'IPC Mexico (^MXX)'\n",
    "    growth_percentage = int(round(ipcmex_growth))\n",
    "\n",
    "print(f\"The index with higher growth is {higher_index} with a growth of {growth_percentage}%.\")\n"
   ]
  },
  {
   "cell_type": "markdown",
   "metadata": {
    "id": "wkHuSrcFQMqd"
   },
   "source": [
    "# Question 4. [Stocks OHLCV] 52-weeks range ratio (2023) for the selected stocks\n",
    "**Find the largest range ratio [=(max-min)/max] of Adj.Close prices in 2023**\n",
    "\n",
    "Download the 2023 daily OHLCV data on Yahoo Finance for top6 stocks on earnings (https://companiesmarketcap.com/most-profitable-companies/): 2222.SR,BRK-B, AAPL, MSFT, GOOG, JPM.\n",
    "\n",
    "Here is the example data you should see in Pandas for \"2222.SR\": https://finance.yahoo.com/quote/2222.SR/history\n",
    "\n",
    "Calculate maximum-minimim \"Adj.Close\" price for each stock and divide it by the maximum \"Adj.Close\" value. Round the result to two decimal places (e.g. 0.1575 will be 0.16)\n",
    "\n",
    "(Additional: why this may be important for your research?)"
   ]
  },
  {
   "cell_type": "code",
   "execution_count": 10,
   "metadata": {
    "colab": {
     "base_uri": "https://localhost:8080/"
    },
    "id": "ZzjyAYaKQSyV",
    "outputId": "0084f978-d0e4-49bb-d430-768f099ef9a1"
   },
   "outputs": [
    {
     "name": "stderr",
     "output_type": "stream",
     "text": [
      "[*********************100%%**********************]  1 of 1 completed\n",
      "[*********************100%%**********************]  1 of 1 completed\n",
      "[*********************100%%**********************]  1 of 1 completed\n",
      "[*********************100%%**********************]  1 of 1 completed\n",
      "[*********************100%%**********************]  1 of 1 completed\n",
      "[*********************100%%**********************]  1 of 1 completed\n"
     ]
    }
   ],
   "source": [
    "_2222sr_df = yf.download(tickers = \"2222.SR\", start='2023-01-01', end='2023-12-31', interval = \"1d\")\n",
    "brkb_df = yf.download(tickers = \"BRK-B\", start='2023-01-01', end='2023-12-31', interval = \"1d\")\n",
    "aapl_df = yf.download(tickers = \"AAPL\", start='2023-01-01', end='2023-12-31', interval = \"1d\")\n",
    "msft_df = yf.download(tickers = \"MSFT\", start='2023-01-01', end='2023-12-31', interval = \"1d\")\n",
    "goog_df = yf.download(tickers = \"GOOG\", start='2023-01-01', end='2023-12-31', interval = \"1d\")\n",
    "jpm_df = yf.download(tickers = \"JPM\", start='2023-01-01', end='2023-12-31', interval = \"1d\")"
   ]
  },
  {
   "cell_type": "code",
   "execution_count": 11,
   "metadata": {
    "colab": {
     "base_uri": "https://localhost:8080/"
    },
    "id": "oV1tZFI3SnJ4",
    "outputId": "407ae010-c0d1-4163-9642-392bc72ad1ac"
   },
   "outputs": [
    {
     "name": "stdout",
     "output_type": "stream",
     "text": [
      "Largest range ratio of Adj.Close prices in 2023:  0.42\n"
     ]
    }
   ],
   "source": [
    "_2222sr_rr = round((_2222sr_df['Adj Close'].max()-_2222sr_df['Adj Close'].min())/_2222sr_df['Adj Close'].max(),2)\n",
    "brkb_rr = round((brkb_df['Adj Close'].max()-brkb_df['Adj Close'].min())/brkb_df['Adj Close'].max(),2)\n",
    "msft_rr = round((msft_df['Adj Close'].max()-msft_df['Adj Close'].min())/msft_df['Adj Close'].max(),2)\n",
    "goog_rr = round((goog_df['Adj Close'].max()-goog_df['Adj Close'].min())/goog_df['Adj Close'].max(),2)\n",
    "jpm_rr = round((jpm_df['Adj Close'].max()-jpm_df['Adj Close'].min())/jpm_df['Adj Close'].max(),2)\n",
    "\n",
    "print('Largest range ratio of Adj.Close prices in 2023: ', max(_2222sr_rr,brkb_rr,msft_rr,goog_rr,jpm_rr))"
   ]
  },
  {
   "cell_type": "markdown",
   "metadata": {
    "id": "0v594jQjWf_h"
   },
   "source": [
    "# Question 5. [Stocks] Dividend Yield\n",
    "**Find the largest dividend yield for the same set of stocks**\n",
    "\n",
    "Use the same list of companies (2222.SR,BRK-B, AAPL, MSFT, GOOG, JPM) and download all dividends paid in 2023. You can use get_actions() method or .dividends field in yfinance library (https://github.com/ranaroussi/yfinance?tab=readme-ov-file#quick-start)\n",
    "\n",
    "Sum up all dividends paid in 2023 per company and divide each value by the closing price (Adj.Close) at the last trading day of the year.\n",
    "\n",
    "Find the maximm value in % and round to 1 digit after the decimal point. (E.g., if you obtained $1.25 dividends paid and the end year stock price is $100, the dividend yield is 1.25% -- and your answer should be equal to 1.3)"
   ]
  },
  {
   "cell_type": "code",
   "execution_count": 12,
   "metadata": {
    "id": "Fs33_GlwgLw4"
   },
   "outputs": [],
   "source": [
    "def get_year_dividends_yeld(ticker, year):\n",
    "  ohlcv_df = yf.download(tickers = ticker, start=f'{year}-12-01', end=f'{year}-12-31', interval = \"1d\")\n",
    "  last_adj_close = ohlcv_df['Adj Close'].iloc[-1]\n",
    "  yf_ticker = yf.Ticker(ticker)\n",
    "  actions_df = yf_ticker.get_actions()\n",
    "  dividends_sum = actions_df[actions_df.index.year == year]['Dividends'].sum()\n",
    "  return round((dividends_sum / last_adj_close)*100, 1)\n"
   ]
  },
  {
   "cell_type": "code",
   "execution_count": 13,
   "metadata": {
    "colab": {
     "base_uri": "https://localhost:8080/"
    },
    "id": "SpoQVtKsWiOE",
    "outputId": "c4ceb56a-3ddb-4124-9eea-b93da3327db8"
   },
   "outputs": [
    {
     "name": "stderr",
     "output_type": "stream",
     "text": [
      "[*********************100%%**********************]  1 of 1 completed\n",
      "[*********************100%%**********************]  1 of 1 completed\n",
      "[*********************100%%**********************]  1 of 1 completed\n",
      "[*********************100%%**********************]  1 of 1 completed\n",
      "[*********************100%%**********************]  1 of 1 completed\n",
      "[*********************100%%**********************]  1 of 1 completed\n"
     ]
    },
    {
     "name": "stdout",
     "output_type": "stream",
     "text": [
      "Largest 2023 dividends yield:  2.8 %\n"
     ]
    }
   ],
   "source": [
    "_2222sr_divs_yeld = get_year_dividends_yeld('2222.SR', 2023)\n",
    "brkb_divs_yeld = get_year_dividends_yeld('BRK-B', 2023)\n",
    "aapl_divs_yeld = get_year_dividends_yeld('AAPL', 2023)\n",
    "msft_divs_yeld = get_year_dividends_yeld('MSFT', 2023)\n",
    "goog_divs_yeld = get_year_dividends_yeld('GOOG', 2023)\n",
    "jpm_divs_yeld = get_year_dividends_yeld('JPM', 2023)\n",
    "\n",
    "div_yelds_2023 = [_2222sr_divs_yeld, brkb_divs_yeld, aapl_divs_yeld, msft_divs_yeld, goog_divs_yeld, jpm_divs_yeld]\n",
    "\n",
    "print('Largest 2023 dividends yield: ', max(div_yelds_2023), '%')"
   ]
  },
  {
   "cell_type": "markdown",
   "metadata": {
    "id": "lZcp4HlgwC5r"
   },
   "source": [
    "# Question 6. [Exploratory] Investigate new metrics\n",
    "**Free text answer**\n",
    "\n",
    "Download and explore a few additional metrics or time series that might be valuable for your project and write down why (briefly).\n",
    "\n"
   ]
  },
  {
   "cell_type": "code",
   "execution_count": null,
   "metadata": {
    "id": "GaanzfmIwJi2"
   },
   "outputs": [],
   "source": []
  },
  {
   "cell_type": "markdown",
   "metadata": {
    "id": "8PEnUZUZwLMV"
   },
   "source": [
    "# Question 7. [Exploratory] Time-driven strategy description around earnings releases\n",
    "**Free text answer**\n",
    "\n",
    "Explore earning dates for the whole month of April - e.g. using YahooFinance earnings calendar (https://finance.yahoo.com/calendar/earnings?from=2024-04-21&to=2024-04-27&day=2024-04-23). Compare with the previous closed earnings (e.g., recent dates with full data https://finance.yahoo.com/calendar/earnings?from=2024-04-07&to=2024-04-13&day=2024-04-08).\n",
    "\n",
    "Describe an analytical strategy/idea (you're not required to implement it) to select a subset companies of interest based on the future events data."
   ]
  }
 ],
 "metadata": {
  "colab": {
   "gpuType": "T4",
   "provenance": []
  },
  "kernelspec": {
   "display_name": "Python 3 (ipykernel)",
   "language": "python",
   "name": "python3"
  },
  "language_info": {
   "codemirror_mode": {
    "name": "ipython",
    "version": 3
   },
   "file_extension": ".py",
   "mimetype": "text/x-python",
   "name": "python",
   "nbconvert_exporter": "python",
   "pygments_lexer": "ipython3",
   "version": "3.10.3"
  }
 },
 "nbformat": 4,
 "nbformat_minor": 4
}
